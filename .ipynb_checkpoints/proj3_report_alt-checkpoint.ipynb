{
 "cells": [
  {
   "cell_type": "markdown",
   "id": "9ccea2d9",
   "metadata": {},
   "source": [
    "```docker-compose up -d```\n",
    "\n",
    "## Create a topic\n",
    "\n",
    "```\n",
    "docker-compose exec kafka \\\n",
    "  kafka-topics \\\n",
    "    --create \\\n",
    "    --topic events \\\n",
    "    --partitions 1 \\\n",
    "    --replication-factor 1 \\\n",
    "    --if-not-exists --zookeeper zookeeper:32181\n",
    "```\n",
    "    Created topic \"events\".\n",
    "\n",
    "## Web app\n",
    "```\n",
    "docker-compose exec mids \\\n",
    "  env FLASK_APP=/w205/flask-with-kafka-and-spark/<filename>.py \\\n",
    "  flask run --host 0.0.0.0\n",
    "```\n"
   ]
  }
 ],
 "metadata": {
  "environment": {
   "name": "common-cpu.m78",
   "type": "gcloud",
   "uri": "gcr.io/deeplearning-platform-release/base-cpu:m78"
  },
  "kernelspec": {
   "display_name": "Python 3",
   "language": "python",
   "name": "python3"
  },
  "language_info": {
   "codemirror_mode": {
    "name": "ipython",
    "version": 3
   },
   "file_extension": ".py",
   "mimetype": "text/x-python",
   "name": "python",
   "nbconvert_exporter": "python",
   "pygments_lexer": "ipython3",
   "version": "3.7.10"
  }
 },
 "nbformat": 4,
 "nbformat_minor": 5
}
